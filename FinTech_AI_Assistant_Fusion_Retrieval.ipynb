{
  "nbformat": 4,
  "nbformat_minor": 0,
  "metadata": {
    "colab": {
      "provenance": [],
      "gpuType": "T4"
    },
    "kernelspec": {
      "name": "python3",
      "display_name": "Python 3"
    },
    "language_info": {
      "name": "python"
    },
    "accelerator": "GPU"
  },
  "cells": [
    {
      "cell_type": "code",
      "source": [
        "!git clone https://github.com/jaZabcd/FinTech-Multi-Role-ChatBot-Advance-Rag-.git\n",
        "%cd FinTech-Multi-Role-ChatBot-Advance-Rag-"
      ],
      "metadata": {
        "colab": {
          "base_uri": "https://localhost:8080/"
        },
        "id": "wtlICNLCi-Gz",
        "outputId": "83bd3f93-e4ac-4a96-f765-289508417fff"
      },
      "execution_count": 1,
      "outputs": [
        {
          "output_type": "stream",
          "name": "stdout",
          "text": [
            "Cloning into 'FinTech-Multi-Role-ChatBot-Advance-Rag-'...\n",
            "remote: Enumerating objects: 25, done.\u001b[K\n",
            "remote: Counting objects: 100% (25/25), done.\u001b[K\n",
            "remote: Compressing objects: 100% (21/21), done.\u001b[K\n",
            "remote: Total 25 (delta 0), reused 0 (delta 0), pack-reused 0 (from 0)\u001b[K\n",
            "Receiving objects: 100% (25/25), 45.14 KiB | 711.00 KiB/s, done.\n",
            "/content/FinTech-Multi-Role-ChatBot-Advance-Rag-\n"
          ]
        }
      ]
    },
    {
      "cell_type": "code",
      "source": [
        "!pip install -U -q langchain langchain-community google-generativeai chromadb langchain-google-genai rank_bm25"
      ],
      "metadata": {
        "id": "twZCwwg4jAyG",
        "collapsed": true
      },
      "execution_count": 19,
      "outputs": []
    },
    {
      "cell_type": "code",
      "source": [
        "from google.colab import userdata\n",
        "import os\n",
        "\n",
        "GOOGLE_API_KEY = userdata.get('GOOGLE_API_KEY')\n",
        "\n",
        "os.environ['GOOGLE_API_KEY'] = GOOGLE_API_KEY"
      ],
      "metadata": {
        "id": "sMyQBl1PL4q0"
      },
      "execution_count": 4,
      "outputs": []
    },
    {
      "cell_type": "code",
      "source": [
        "import re\n",
        "\n",
        "def clean_markdown(text):\n",
        "    text = re.sub(r\"#+ \", \"\", text)  # Remove headers\n",
        "    text = re.sub(r\"`{3}.*?`{3}\", \"\", text, flags=re.DOTALL)  # Remove code blocks\n",
        "    text = re.sub(r\"[-*] \", \"\", text)  # Remove bullet points\n",
        "    text = re.sub(r\"\\n{2,}\", \"\\n\", text)  # Remove excessive newlines\n",
        "    return text.strip()\n",
        "\n",
        "def remove_boilerplate(text):\n",
        "    lines = text.splitlines()\n",
        "    clean_lines = [line for line in lines if not re.search(r\"(©|last updated|http|Page \\d+)\", line, re.IGNORECASE)]\n",
        "    return \"\\n\".join(clean_lines)\n",
        "\n",
        "def normalize_text(text):\n",
        "    return \" \".join(text.split())\n",
        "\n",
        "def preprocess_text(text):\n",
        "    text = clean_markdown(text)\n",
        "    text = remove_boilerplate(text)\n",
        "    text = normalize_text(text)\n",
        "    return text"
      ],
      "metadata": {
        "id": "H5RtGBWVOe7T"
      },
      "execution_count": 8,
      "outputs": []
    },
    {
      "cell_type": "code",
      "source": [
        "from langchain.docstore.document import Document\n",
        "from langchain_community.document_loaders import TextLoader\n",
        "import pandas as pd\n",
        "\n",
        "\n",
        "def load_mdfiles(path, role):\n",
        "    for file in os.listdir(path):\n",
        "        if file.endswith(\".md\"):\n",
        "            loader = TextLoader(os.path.join(path, file))\n",
        "            for doc in loader.load():\n",
        "                raw_text = doc.page_content\n",
        "                cleaned = preprocess_text(raw_text)\n",
        "                yield Document(page_content=cleaned, metadata={\"source\": file, \"role\": role})\n",
        "\n",
        "def load_csvfiles(path:str, role:str):\n",
        "  for file in os.listdir(path):\n",
        "    if file.endswith(\".csv\"):\n",
        "      df=pd.read_csv(os.path.join(path,file))\n",
        "\n",
        "      for _, row in df.iterrows():\n",
        "        row_text = \"\\n\".join(f\"{col}: {row[col]}\" for col in df.columns)\n",
        "        cleaned = preprocess_text(row_text)\n",
        "        yield Document(\n",
        "            page_content=cleaned,\n",
        "            metadata={\"source\": file, \"role\": role}\n",
        "        )\n"
      ],
      "metadata": {
        "id": "8QsOlHnWjA1s"
      },
      "execution_count": 21,
      "outputs": []
    },
    {
      "cell_type": "code",
      "source": [
        "# Collect all docs\n",
        "all_docs = []\n",
        "\n",
        "role_dirs = {\n",
        "    \"marketing\": load_mdfiles(\"data/marketing\", \"marketing\"),\n",
        "    \"engineering\": load_mdfiles(\"data/engineering\", \"engineering\"),\n",
        "    \"general\": load_mdfiles(\"data/general\", \"general\"),\n",
        "    \"finance\": load_mdfiles(\"data/finance\", \"finance\"),\n",
        "    \"hr\": load_csvfiles(\"data/hr\", \"hr\"),\n",
        "}\n",
        "\n",
        "# Merge all documents\n",
        "for role, docs in role_dirs.items():\n",
        "    all_docs.extend(docs)"
      ],
      "metadata": {
        "id": "y1pefzeFjA5r"
      },
      "execution_count": 22,
      "outputs": []
    },
    {
      "cell_type": "code",
      "source": [
        "all_docs[0].page_content"
      ],
      "metadata": {
        "colab": {
          "base_uri": "https://localhost:8080/",
          "height": 140
        },
        "id": "Oj0n6Wi_jBAa",
        "outputId": "d665a2b8-cf3e-4599-a904-79e06e2c14d0"
      },
      "execution_count": 23,
      "outputs": [
        {
          "output_type": "execute_result",
          "data": {
            "text/plain": [
              "'Comprehensive Marketing Report Q1 2024 Executive Summary Q1 2024 marked a foundational quarter for FinNova, as we focused on building robust marketing infrastructure to support aggressive expansion and enhance customer acquisition channels. This report details our marketing strategies, performance metrics, and strategic objectives, emphasizing our efforts to expand into Europe, launch the InstantPay feature, and boost social media engagement. With a $2 million marketing spend, we achieved significant milestones, setting a strong trajectory for the remainder of 2024. Q1 Marketing Overview In Q1 2024, FinNova prioritized establishing a scalable framework for growth, with a focus on strengthening customer acquisition channels and enhancing brand visibility. Key initiatives included: **European Market Entry**: Launched targeted campaigns in the UK, Germany, and France to build brand awareness and capture market share. **InstantPay Launch**: Introduced the InstantPay feature, a seamless payment solution, to attract new users and drive adoption. **Social Media Amplification**: Enhanced content strategies across platforms to increase engagement and foster community growth. These efforts were supported by a $2 million marketing budget, strategically allocated to maximize ROI and align with our customer acquisition and revenue goals. Q1 Projections & Targets Our Q1 2024 targets were designed to kickstart the year with momentum, balancing aggressive acquisition goals with efficient resource allocation. The key projections were: **Customer Acquisition Target**: 150,000 new customers Focused on both existing markets (60%) and new European markets (40%), leveraging digital and traditional channels. **Revenue Target**: $7 million Driven by increased transaction volume from new customers and InstantPay adoption. **Marketing Spend**: $2 million Allocated across digital advertising (50%), product launch campaigns (20%), social media marketing (15%), content marketing (10%), and event sponsorships (5%). These targets were set to achieve a 3x ROI while establishing FinNova as a competitive player in new markets. Q1 Benchmarks To evaluate the success of our marketing initiatives, we established the following performance benchmarks: **Conversion Rate Target**: 10.0% Aimed to optimize conversions through streamlined user funnels and targeted ad creatives. **ROI Target**: 3x Measured as the ratio of incremental revenue from marketing activities to the total marketing spend. **Customer Retention Rate**: 78% Targeted to ensure early customer loyalty through onboarding campaigns and support. **Cost Per Acquisition (CPA)**: $13.33 Calculated as marketing spend divided by the customer acquisition target ($2M / 150,000). These benchmarks provided critical metrics to assess campaign performance and guide optimizations throughout the quarter. Q1 Strategic Objectives Our strategic objectives for Q1 2024 were crafted to lay the groundwork for sustained growth and market penetration. The key objectives included: 1. **Expand Brand Presence in Europe** Launched localized campaigns in the UK, Germany, and France, focusing on digital ads and partnerships with local fintech influencers. Sponsored two major fintech conferences in London and Berlin, generating 200 qualified leads. 2. **Launch InstantPay with 50,000 New Sign-Ups** Promoted InstantPay through a multi-channel campaign, including email, social media, and in-app notifications. Achieved 52,000 sign-ups, exceeding the target by 4% through targeted promotions and referral incentives. 3. **Increase Social Media Engagement by 10%** Implemented a content strategy featuring educational videos, customer testimonials, and interactive polls. Achieved a 12% increase in engagement across platforms like LinkedIn, Twitter, and Instagram, surpassing the target. Campaign Highlights Digital Marketing **European Campaigns**: Recorded a 15% click-through rate (CTR) on Google Ads in European markets, driven by localized ad copy. **Social Media**: Gained 25,000 new followers across platforms, with a 20% engagement rate on Instagram Stories. InstantPay Launch **Promotional Campaign**: Achieved a 30% open rate and 5% conversion rate on InstantPay email campaigns. **Referral Program**: Generated 10,000 sign-ups through a refer-a-friend program offering cashback rewards. Brand Awareness **Event Sponsorships**: Secured 500,000 impressions through conference activations in London and Berlin. **Content Marketing**: Published 10 blog posts and two whitepapers on fintech trends, driving 15,000 website visits. Performance Analysis Preliminary data indicates strong performance against our Q1 targets: **Customer Acquisition**: Acquired 145,000 new customers by quarter-end, with 45% from Europe, slightly below the 150,000 target due to regulatory delays in France. **Revenue**: Generated $6.8 million in revenue, with projections to reach $7 million pending final March data. **Conversion Rate**: Achieved a 10.2% conversion rate, exceeding the 10.0% target through effective funnel optimizations. **ROI**: Preliminary ROI stands at 3.1x, with final calculations pending year-end revenue data. Recommendations for Q2 2024 Based on Q1 performance, we propose the following strategies for Q2 2024: 1. **Accelerate European Expansion**: Increase ad spend by 10% in France to overcome regulatory hurdles and meet acquisition targets. 2. **Enhance InstantPay Adoption**: Introduce gamified incentives to drive repeat usage and sustain sign-up momentum. 3. **Sustain Social Media Growth**: Invest in video content and influencer partnerships to maintain engagement growth. Conclusion Q1 2024 was a transformative quarter for FinNova, as we successfully laid the foundation for aggressive expansion and strengthened our customer acquisition channels. Our focus on European market entry, the InstantPay launch, and social media engagement delivered measurable results, positioning us for continued success in Q2. This report reflects our commitment to strategic growth and data-driven marketing as we build toward a landmark year.'"
            ],
            "application/vnd.google.colaboratory.intrinsic+json": {
              "type": "string"
            }
          },
          "metadata": {},
          "execution_count": 23
        }
      ]
    },
    {
      "cell_type": "code",
      "source": [
        "from langchain.text_splitter import RecursiveCharacterTextSplitter\n",
        "from langchain_google_genai import GoogleGenerativeAIEmbeddings\n",
        "from langchain.vectorstores import Chroma\n",
        "\n",
        "\n",
        "text_splitter = RecursiveCharacterTextSplitter(chunk_size=500, chunk_overlap=50)\n",
        "\n",
        "# Embedding model\n",
        "embedding_model = GoogleGenerativeAIEmbeddings(model=\"models/embedding-001\")\n",
        "\n",
        "# Split all docs\n",
        "split_docs = text_splitter.split_documents(all_docs)\n",
        "\n",
        "# Store in one collection\n",
        "vectordb = Chroma.from_documents(\n",
        "    documents=split_docs,\n",
        "    embedding=embedding_model,\n",
        "    persist_directory=\"chroma_store_unified\",\n",
        "    collection_name=\"role_based_docs\"\n",
        ")\n",
        "\n",
        "vectordb.persist()\n",
        "print(f\"Stored total chunks: {len(split_docs)}\")\n",
        "\n"
      ],
      "metadata": {
        "id": "qbJsMZRRopFR",
        "colab": {
          "base_uri": "https://localhost:8080/"
        },
        "outputId": "9131b2c2-7584-4018-f63d-4ff638d0120f"
      },
      "execution_count": 24,
      "outputs": [
        {
          "output_type": "stream",
          "name": "stdout",
          "text": [
            "Stored total chunks: 305\n"
          ]
        }
      ]
    },
    {
      "cell_type": "code",
      "source": [
        "from rank_bm25 import BM25Okapi\n",
        "from typing import List\n",
        "from langchain.schema import Document\n",
        "\n",
        "# Global mapping to match tokenized doc index with original doc\n",
        "tokenized_docs = []\n",
        "original_docs = []\n",
        "\n",
        "def create_bm25_index(documents: List[Document]) -> BM25Okapi:\n",
        "    global tokenized_docs, original_docs\n",
        "    tokenized_docs = [doc.page_content.split() for doc in documents]\n",
        "    original_docs = documents\n",
        "    return BM25Okapi(tokenized_docs)\n",
        "\n",
        "bm25 = create_bm25_index(split_docs)"
      ],
      "metadata": {
        "id": "0lH8sbyoqiRV"
      },
      "execution_count": 25,
      "outputs": []
    },
    {
      "cell_type": "code",
      "source": [
        "def hybrid_search(query: str, role: str, top_k=5, alpha=0.5):\n",
        "    \"\"\"\n",
        "    alpha: weight between BM25 and vector similarity (0 to 1)\n",
        "    1.0 = only vector, 0.0 = only BM25\n",
        "    \"\"\"\n",
        "    # Step 1: BM25 lexical match\n",
        "    query_tokens = query.split()\n",
        "    bm25_scores = bm25.get_scores(query_tokens)\n",
        "\n",
        "    # Step 2: Vector similarity match from Chroma\n",
        "    vector_results = vectordb.similarity_search_with_score(query, k=len(split_docs), filter={\"role\": role})\n",
        "\n",
        "    # Step 3: Combine scores (normalize and rerank)\n",
        "    score_map = {}\n",
        "\n",
        "    # Add BM25 scores\n",
        "    for i, score in enumerate(bm25_scores):\n",
        "        doc = original_docs[i]\n",
        "        if doc.metadata[\"role\"] == role:\n",
        "            score_map[doc.page_content] = {\"bm25\": score, \"vector\": 0}\n",
        "\n",
        "    # Add vector scores\n",
        "    for doc, vscore in vector_results:\n",
        "        if doc.metadata[\"role\"] == role:\n",
        "            if doc.page_content in score_map:\n",
        "                score_map[doc.page_content][\"vector\"] = 1 - vscore  # lower vscore = more similar\n",
        "            else:\n",
        "                score_map[doc.page_content] = {\"bm25\": 0, \"vector\": 1 - vscore}\n",
        "\n",
        "    # Weighted hybrid score\n",
        "    reranked = sorted(\n",
        "        score_map.items(),\n",
        "        key=lambda x: alpha * x[1][\"vector\"] + (1 - alpha) * x[1][\"bm25\"],\n",
        "        reverse=True\n",
        "    )\n",
        "\n",
        "    \"\"\"print(f\"\\n{'-'*30} HYBRID RESULTS {'-'*30}\")\n",
        "    for text, scores in reranked[:top_k]:\n",
        "        print(f\"Role: {role}\")\n",
        "        print(f\"BM25 Score:  {scores['bm25']:.4f}\")\n",
        "        print(f\"Vector Score: {scores['vector']:.4f}\")\n",
        "        print(f\"Combined Score: {alpha * scores['vector'] + (1 - alpha) * scores['bm25']:.4f}\")\n",
        "        print(f\"Content: {text[:200]}...\\n\")\"\"\"\n",
        "\n",
        "    return [Document(page_content=text, metadata={\"role\": role}) for text, _ in reranked[:top_k]]"
      ],
      "metadata": {
        "id": "SrElWXYTqiWS"
      },
      "execution_count": 38,
      "outputs": []
    },
    {
      "cell_type": "code",
      "source": [
        "results = hybrid_search(\"budget forecast and spending trends\", role=\"finance\", top_k=3, alpha=0.6)\n",
        "\n",
        "for r in results:\n",
        "    print(f\"[{r.metadata['role']}] {r.page_content}\\n\")"
      ],
      "metadata": {
        "id": "_QrEwn8Iqibw",
        "colab": {
          "base_uri": "https://localhost:8080/"
        },
        "outputId": "da1498a8-dd2f-466a-d4b5-37e8438cc4b6"
      },
      "execution_count": 27,
      "outputs": [
        {
          "output_type": "stream",
          "name": "stdout",
          "text": [
            "\n",
            "------------------------------ HYBRID RESULTS ------------------------------\n",
            "Role: finance\n",
            "BM25 Score:  6.9140\n",
            "Vector Score: 0.2299\n",
            "Combined Score: 2.9035\n",
            "Content: & HR**: $47 million, reflecting investments in employee development and retention programs. **Software Subscriptions**: $47 million, maintaining high operational tech costs to support scalability. **O...\n",
            "\n",
            "Role: finance\n",
            "BM25 Score:  2.1491\n",
            "Vector Score: 0.3012\n",
            "Combined Score: 1.0404\n",
            "Content: Detailed tables and charts are available in the financial statements section of the main report, showcasing YoY comparisons, expense breakdowns, and key ratios....\n",
            "\n",
            "Role: finance\n",
            "BM25 Score:  2.2921\n",
            "Vector Score: 0.1985\n",
            "Combined Score: 1.0359\n",
            "Content: R&D, market expansion, and product development. Financing activities provided $110 million to support working capital and long-term growth. Despite risks such as vendor cost inflation and competitive ...\n",
            "\n",
            "[finance] & HR**: $47 million, reflecting investments in employee development and retention programs. **Software Subscriptions**: $47 million, maintaining high operational tech costs to support scalability. **Other Operational Expenses**: $33 million, covering promotional events and regional marketing activities. Cash Flow Analysis Cash flow trends remained positive, supporting growth initiatives: **Cash Flow from Operations**: $350 million, up 12% YoY, driven by increased revenue and efficient\n",
            "\n",
            "[finance] Detailed tables and charts are available in the financial statements section of the main report, showcasing YoY comparisons, expense breakdowns, and key ratios.\n",
            "\n",
            "[finance] R&D, market expansion, and product development. Financing activities provided $110 million to support working capital and long-term growth. Despite risks such as vendor cost inflation and competitive pressures, proactive mitigation strategies ensured financial stability and positioned FinSolve Technologies for continued success in 2025. Recommendations for 2025 1. **Optimize Marketing ROI**: Leverage data analytics to refine influencer and digital marketing strategies, ensuring higher returns\n",
            "\n"
          ]
        }
      ]
    },
    {
      "cell_type": "code",
      "source": [
        "from langchain_google_genai import ChatGoogleGenerativeAI\n",
        "from langchain.prompts import PromptTemplate\n",
        "from langchain.chains import LLMChain\n",
        "\n",
        "\n",
        "llm = ChatGoogleGenerativeAI(model=\"gemini-1.5-flash\")"
      ],
      "metadata": {
        "id": "NP9w_PyBV8ZW"
      },
      "execution_count": 46,
      "outputs": []
    },
    {
      "cell_type": "code",
      "source": [
        "template = \"\"\"\n",
        "You are a helpful assistant for the {role} department. Use the following information to answer the user's question.\n",
        "\n",
        "Context:\n",
        "{context}\n",
        "\n",
        "Question:\n",
        "{question}\n",
        "\n",
        "Answer in a professional tone.\n",
        "\"\"\"\n",
        "\n",
        "prompt = PromptTemplate(\n",
        "    input_variables=[\"question\", \"context\", \"role\"],\n",
        "    template=template\n",
        ")\n",
        "\n",
        "rag_chain = LLMChain(llm=llm, prompt=prompt)"
      ],
      "metadata": {
        "id": "Cjdf_abmV8cp"
      },
      "execution_count": 47,
      "outputs": []
    },
    {
      "cell_type": "code",
      "source": [
        "def answer_query_with_rag(question: str, role: str, top_k=5, alpha=0.5):\n",
        "    # Step 1: Hybrid Retrieval\n",
        "    retrieved_docs = hybrid_search(question, role, top_k=top_k, alpha=alpha)\n",
        "\n",
        "    # Step 2: Merge context\n",
        "    context = \"\\n\\n\".join([doc.page_content for doc in retrieved_docs])\n",
        "\n",
        "    # Step 3: Run LLM\n",
        "    response = rag_chain.run({\n",
        "        \"question\": question,\n",
        "        \"context\": context,\n",
        "        \"role\": role\n",
        "    })\n",
        "\n",
        "    return response"
      ],
      "metadata": {
        "id": "PT2XOHMiV8f0"
      },
      "execution_count": 48,
      "outputs": []
    },
    {
      "cell_type": "code",
      "source": [
        "response = answer_query_with_rag(\"What is the current year's marketing budget strategy?\", role=\"marketing\")\n",
        "print(\"\\n📢 Final Answer:\\n\", response)"
      ],
      "metadata": {
        "colab": {
          "base_uri": "https://localhost:8080/"
        },
        "id": "JG2s2LpWW8E9",
        "outputId": "9dd49e9c-ed35-4846-bef4-727e541f1e96"
      },
      "execution_count": 49,
      "outputs": [
        {
          "output_type": "stream",
          "name": "stdout",
          "text": [
            "\n",
            "📢 Final Answer:\n",
            " FinSolve Technologies' 2024 marketing budget of $15M prioritized several key strategic areas.  47% ($7M) was allocated to digital marketing, focusing on increasing customer engagement and reducing Customer Acquisition Cost (CAC).  A significant portion of the budget was also dedicated to Public Relations and event organization, supporting brand building and market expansion.  While specific allocations for these areas aren't detailed, the overall strategy aimed to achieve a 15% conversion rate target.  \n",
            "\n",
            "The current strategy emphasizes:\n",
            "\n",
            "* **Improved Customer Acquisition:**  Focusing on digital channels, particularly social media (Instagram and LinkedIn), with educational content on financial empowerment and fintech innovation.  Expansion into new markets, specifically Latin America, is also a key component.\n",
            "* **Enhanced B2B Engagement:**  A 10% increase in Account-Based Marketing (ABM) budget is planned to target enterprise clients in manufacturing and retail sectors.\n",
            "* **Strengthened Customer Retention:**  The strategy includes developing and implementing gamified loyalty programs and personalized communications to increase customer lifetime value and reduce churn.\n",
            "* **Optimized Vendor Management:**  Improving vendor contracts and incorporating performance-based incentives to ensure better results from external partners like ABC Services (who, despite strong engagement results, require improved reporting and budget adherence).\n",
            "\n",
            "The appendices provide more granular data on performance and ROI, supporting these strategic initiatives.  The Q4 2024 results demonstrate progress towards these goals, but further refinement and personalized approaches are planned for the coming year.\n"
          ]
        }
      ]
    },
    {
      "cell_type": "code",
      "source": [
        "print(answer_query_with_rag(\"What is the system architecture?\", role=\"finance\"))\n",
        "print(answer_query_with_rag(\"Attendance of Aadhya Patel?\", role=\"hr\"))\n",
        "print(answer_query_with_rag(\"What are marketing KPIs?\",  role=\"marketing\"))"
      ],
      "metadata": {
        "colab": {
          "base_uri": "https://localhost:8080/"
        },
        "id": "tscHwC13XW5M",
        "outputId": "478336fb-2862-45aa-ac60-efece98517d2"
      },
      "execution_count": 50,
      "outputs": [
        {
          "output_type": "stream",
          "name": "stdout",
          "text": [
            "The provided text focuses on FinSolve Technologies' financial performance and does not contain information about its system architecture.  Therefore, I cannot answer your question using the given context.  To understand the system architecture, a different source of information would be needed.\n",
            "Aadhya Patel's attendance percentage is 99.31%.\n",
            "Our key marketing KPIs (Key Performance Indicators) include:\n",
            "\n",
            "* **Conversion Rate:**  This measures the percentage of website visitors or leads who complete a desired action (e.g., purchase, sign-up).  Targets varied across quarters, ranging from 10% to 15%, reflecting adjustments to our strategies and goals.\n",
            "\n",
            "* **Return on Investment (ROI):** This indicates the profitability of our marketing campaigns, calculated as the ratio of incremental revenue generated to total marketing spend.  Our ROI targets ranged from 2.4x to 4.4x across different quarters, demonstrating a focus on maximizing marketing efficiency.\n",
            "\n",
            "* **Customer Retention Rate:** This metric tracks the percentage of existing customers who continue to engage with our brand over a specific period.  We aimed for retention rates between 78% and 85%, highlighting a commitment to building long-term customer relationships.\n",
            "\n",
            "* **Cost Per Acquisition (CPA):**  This measures the cost of acquiring a new customer.  Our CPA targets were $11.11 and $13.33, depending on the quarter and projected customer acquisition numbers.  This helps us optimize spending and ensure cost-effectiveness.\n",
            "\n",
            "Detailed performance data and analysis supporting these KPIs can be found in the appended reports.\n"
          ]
        }
      ]
    },
    {
      "cell_type": "code",
      "source": [],
      "metadata": {
        "id": "EQcp8hr5Zy5r"
      },
      "execution_count": null,
      "outputs": []
    }
  ]
}